{
 "cells": [
  {
   "cell_type": "code",
   "execution_count": 39,
   "metadata": {},
   "outputs": [],
   "source": [
    "from get_info import extract_info\n",
    "import csv\n",
    "import math\n",
    "import ast\n",
    "import time\n",
    "import sys"
   ]
  },
  {
   "cell_type": "code",
   "execution_count": 2,
   "metadata": {},
   "outputs": [
    {
     "data": {
      "text/plain": [
       "'\\ntrending1.csv links\\n    \"https://github.com/PaddlePaddle/PaddleSpeech\", \\n    \"https://github.com/terra-money/core\",\\n    \"https://github.com/payloadcms/payload\",\\n    \"https://github.com/donnemartin/system-design-primer\",\\n    \"https://github.com/facebook/flipper\",\\n    \"https://github.com/InoriRus/Kyty\",\\n    \"https://github.com/ml-tooling/best-of-ml-python\",\\n    \"https://github.com/guchangan1/All-Defense-Tool\",\\n    \"https://github.com/dair-ai/Mathematics-for-ML\",\\n    \"https://github.com/dotnet/aspnetcore\",\\n'"
      ]
     },
     "execution_count": 2,
     "metadata": {},
     "output_type": "execute_result"
    }
   ],
   "source": [
    "\"\"\"\n",
    "trending1.csv links\n",
    "    \"https://github.com/PaddlePaddle/PaddleSpeech\", \n",
    "    \"https://github.com/terra-money/core\",\n",
    "    \"https://github.com/payloadcms/payload\",\n",
    "    \"https://github.com/donnemartin/system-design-primer\",\n",
    "    \"https://github.com/facebook/flipper\",\n",
    "    \"https://github.com/InoriRus/Kyty\",\n",
    "    \"https://github.com/ml-tooling/best-of-ml-python\",\n",
    "    \"https://github.com/guchangan1/All-Defense-Tool\",\n",
    "    \"https://github.com/dair-ai/Mathematics-for-ML\",\n",
    "    \"https://github.com/dotnet/aspnetcore\",\n",
    "\"\"\"\n",
    "\n",
    "\"\"\"\n",
    "trending.csv links\n",
    "    \"https://github.com/rocboss/paopao-ce\",\n",
    "    \"https://github.com/hasinhayder/hydra\",\n",
    "    \"https://github.com/coolsnowwolf/lede\",\n",
    "    \"https://github.com/livebud/bud\",\n",
    "    \"https://github.com/github/copilot-docs\", #5\n",
    "    \"https://github.com/trekhleb/javascript-algorithms\",\n",
    "    \"https://github.com/Grasscutters/Grasscutter\",\n",
    "    \"https://github.com/payloadcms/payload\",\n",
    "    \"https://github.com/cloudflare/cloudflare-docs\",\n",
    "    \"https://github.com/XiaoMiku01/fansMedalHelper\", #10\n",
    "    \"https://github.com/godotengine/godot\", \n",
    "    \"https://github.com/smartcontractkit/full-blockchain-solidity-course-js\", \n",
    "    \"https://github.com/bregman-arie/devops-exercises\", \n",
    "    \"https://github.com/zijie0/HumanSystemOptimization\",\n",
    "    \"https://github.com/Asabeneh/30-Days-Of-React\", #15\n",
    "    \"https://github.com/helix-editor/helix\", \n",
    "    \"https://github.com/openwrt/openwrt\",\n",
    "    \"https://github.com/trustwallet/assets\",\n",
    "    \"https://github.com/qmk/qmk_firmware\",\n",
    "    \"https://github.com/lucidrains/imagen-pytorch\", #20\n",
    "\"\"\""
   ]
  },
  {
   "cell_type": "code",
   "execution_count": 58,
   "metadata": {},
   "outputs": [
    {
     "name": "stdout",
     "output_type": "stream",
     "text": [
      "0\n",
      "1\n",
      "2\n",
      "3\n",
      "4\n",
      "5\n",
      "6\n",
      "7\n",
      "8\n",
      "9\n"
     ]
    }
   ],
   "source": [
    "# top 10 trending links as of 05/29/2022\n",
    "trending_links = [\n",
    "    \"https://github.com/PaddlePaddle/PaddleSpeech\", \n",
    "    \"https://github.com/terra-money/core\",\n",
    "    \"https://github.com/payloadcms/payload\",\n",
    "    \"https://github.com/donnemartin/system-design-primer\",\n",
    "    \"https://github.com/facebook/flipper\",\n",
    "    \"https://github.com/InoriRus/Kyty\",\n",
    "    \"https://github.com/ml-tooling/best-of-ml-python\",\n",
    "    \"https://github.com/guchangan1/All-Defense-Tool\",\n",
    "    \"https://github.com/dair-ai/Mathematics-for-ML\",\n",
    "    \"https://github.com/dotnet/aspnetcore\",\n",
    "]\n",
    "\n",
    "data = []\n",
    "for i in range(len(trending_links)):\n",
    "    print(i)\n",
    "    data.append(extract_info(trending_links[i]))"
   ]
  },
  {
   "cell_type": "code",
   "execution_count": 59,
   "metadata": {},
   "outputs": [],
   "source": [
    "with open(\"trending.csv\", \"w\") as file: # to append, change \"w\" to \"a\"\n",
    "    fieldnames = ['num_stars', 'num_forks', 'num_open_issues', 'num_contributors', 'num_closed_issues']\n",
    "    writer = csv.DictWriter(file, fieldnames=fieldnames)\n",
    "    writer.writeheader() # to append, comment out line\n",
    "    for i in range(len(data)):\n",
    "        writer.writerow(data[i])"
   ]
  },
  {
   "cell_type": "code",
   "execution_count": 62,
   "metadata": {},
   "outputs": [],
   "source": [
    "trending_data = []\n",
    "with open(\"trending.csv\", \"r\") as file: \n",
    "    reader = csv.DictReader(file)\n",
    "    for row in reader:\n",
    "        trending_data.append(row)"
   ]
  },
  {
   "cell_type": "code",
   "execution_count": 7,
   "metadata": {},
   "outputs": [],
   "source": [
    "# Spearman Correlation Coefficient calculation\n",
    "# https://www.statisticshowto.com/probability-and-statistics/correlation-coefficient-formula/spearman-rank-correlation-definition-calculate/\n",
    "def rank_correlation(arr):\n",
    "\tans = 0\n",
    "\ttemp = arr.copy()\n",
    "\th = {}\n",
    "\tn = len(arr)\n",
    "\ttemp.sort(reverse=True)\n",
    "\n",
    "\tfor i in range(n):\n",
    "\t\th[arr[i]] = i\n",
    "\n",
    "\tfor i in range(n):\n",
    "\t\tif (arr[i] != temp[i]):\n",
    "\t\t\tans += (abs(i - h[temp[i]]))**2\n",
    "\t\n",
    "\treturn (1 - 6*ans/(n*(n**2-1)))"
   ]
  },
  {
   "cell_type": "code",
   "execution_count": 63,
   "metadata": {},
   "outputs": [
    {
     "name": "stdout",
     "output_type": "stream",
     "text": [
      "rank: 1  metric: 8.325629154799136\n",
      "rank: 2  metric: 2.0704587570379838\n",
      "rank: 3  metric: 6.257008307082241\n",
      "rank: 4  metric: 4.798803780323246\n",
      "rank: 5  metric: 159.76319492037868\n",
      "rank: 6  metric: 321.2350382967692\n",
      "rank: 7  metric: 93.72529743297986\n",
      "rank: 8  metric: 44.43554100357774\n",
      "rank: 9  metric: 17.22611216187496\n",
      "rank: 10  metric: 5.413832781053524\n",
      "rank: 11  metric: 15.026208221986348\n",
      "rank: 12  metric: 14.821202872522337\n",
      "rank: 13  metric: 5.958126307440837\n",
      "rank: 14  metric: 13.984968183497584\n",
      "rank: 15  metric: 569.7267113037536\n",
      "rank: 16  metric: 4.837833731272726\n",
      "rank: 17  metric: 22.786250200153216\n",
      "rank: 18  metric: 5.9820406996026785\n",
      "rank: 19  metric: 3.223058014252584\n",
      "rank: 20  metric: 4.049853868995256\n",
      "Spearman Rank Correlation:  0.15639097744360897\n"
     ]
    }
   ],
   "source": [
    "epochs = [1653656820, 1653730620, 1653500640, 1650719640, 1653738420,\n",
    "          1653698280, 1653584520, 1653733080, 1653418680, 1653788880]\n",
    "\n",
    "epochs = [1653813000, 1653850560, 1653840300, 1653838800, 1650964200,\n",
    "          1647103560, 1652794920, 1653500640, 1653757980, 1653836700, \n",
    "          1653812820, 1653748560, 1653835020, 1653751200, 1637182260, \n",
    "          1653841320, 1653732000, 1653843120, 1653851700, 1653841380]\n",
    "\n",
    "# calculate metrics\n",
    "metrics = []\n",
    "for index, row in enumerate(trending_data):\n",
    "    # num stars\n",
    "    metric = math.log(int(row['num_stars']))\n",
    "    # num forks scaled by num contributors\n",
    "    metric += math.log(max(1, float(int(row['num_forks']))))\n",
    "    # num closed issues minus open issues - more closed issues better (scaled by num contributors)\n",
    "    diff = math.log(max(1, int(row['num_closed_issues']) - int(row['num_open_issues'])))\n",
    "    metric += float((int(row['num_closed_issues']) - int(row['num_open_issues']))/max(1, float(row['num_contributors'])))\n",
    "    time_since = (time.time() - epochs[index])/float(360*24)\n",
    "    # metric = metric**((0.3)**(-math.log(time_since, 15))) #15\n",
    "    try:\n",
    "        metric **= (time_since)**(-math.log(0.5))\n",
    "    except OverflowError:\n",
    "        metric = sys.float_info.max\n",
    "    metric = math.log(metric)\n",
    "    print(\"rank:\", index+1, \" metric:\", metric)\n",
    "    metrics.append(metric)\n",
    "\n",
    "print(\"Spearman Rank Correlation: \", rank_correlation(metrics))"
   ]
  },
  {
   "cell_type": "code",
   "execution_count": null,
   "metadata": {},
   "outputs": [],
   "source": [
    "    # factor in author data\n",
    "    # author_data = ast.literal_eval(row['authors_info'])\n",
    "    # total_num_contr = 0\n",
    "    # for author in author_data:\n",
    "    #     total_num_contr += float(author['metric']['num_of_contri_for_cur_repo'])\n",
    "    # for author in author_data:\n",
    "    #     metric += (float(author['metric']['num_of_contri_for_cur_repo'])*float(author['metric']['num_of_followers']))/total_num_contr\n",
    "    # factor in time since latest commit"
   ]
  }
 ],
 "metadata": {
  "interpreter": {
   "hash": "b0fa6594d8f4cbf19f97940f81e996739fb7646882a419484c72d19e05852a7e"
  },
  "kernelspec": {
   "display_name": "Python 3.9.9 64-bit",
   "language": "python",
   "name": "python3"
  },
  "language_info": {
   "codemirror_mode": {
    "name": "ipython",
    "version": 3
   },
   "file_extension": ".py",
   "mimetype": "text/x-python",
   "name": "python",
   "nbconvert_exporter": "python",
   "pygments_lexer": "ipython3",
   "version": "3.9.9"
  },
  "orig_nbformat": 4
 },
 "nbformat": 4,
 "nbformat_minor": 2
}
